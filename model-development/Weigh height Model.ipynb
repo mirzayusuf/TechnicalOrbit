{
 "cells": [
  {
   "cell_type": "markdown",
   "id": "44919296",
   "metadata": {},
   "source": [
    "# Weight Height Dataset\n",
    "resource : https://www.kaggle.com/datasets/burnoutminer/heights-and-weights-dataset"
   ]
  },
  {
   "cell_type": "code",
   "execution_count": 1,
   "id": "79414c69",
   "metadata": {},
   "outputs": [],
   "source": [
    "#Import Modules\n",
    "import pandas as pd\n",
    "import numpy as np\n",
    "from sklearn.linear_model import LogisticRegression\n",
    "from sklearn.model_selection import train_test_split\n",
    "from sklearn.preprocessing import LabelEncoder, StandardScaler\n",
    "import joblib"
   ]
  },
  {
   "cell_type": "code",
   "execution_count": 2,
   "id": "a4fb2db5",
   "metadata": {},
   "outputs": [],
   "source": [
    "#Import Dataset\n",
    "df = pd.read_csv(\"datasets/weight-height.csv\")"
   ]
  },
  {
   "cell_type": "code",
   "execution_count": 3,
   "id": "f9b6ae4c",
   "metadata": {
    "scrolled": true
   },
   "outputs": [
    {
     "data": {
      "text/html": [
       "<div>\n",
       "<style scoped>\n",
       "    .dataframe tbody tr th:only-of-type {\n",
       "        vertical-align: middle;\n",
       "    }\n",
       "\n",
       "    .dataframe tbody tr th {\n",
       "        vertical-align: top;\n",
       "    }\n",
       "\n",
       "    .dataframe thead th {\n",
       "        text-align: right;\n",
       "    }\n",
       "</style>\n",
       "<table border=\"1\" class=\"dataframe\">\n",
       "  <thead>\n",
       "    <tr style=\"text-align: right;\">\n",
       "      <th></th>\n",
       "      <th>Gender</th>\n",
       "      <th>Height</th>\n",
       "      <th>Weight</th>\n",
       "    </tr>\n",
       "  </thead>\n",
       "  <tbody>\n",
       "    <tr>\n",
       "      <th>0</th>\n",
       "      <td>Male</td>\n",
       "      <td>73.847017</td>\n",
       "      <td>241.893563</td>\n",
       "    </tr>\n",
       "    <tr>\n",
       "      <th>1</th>\n",
       "      <td>Male</td>\n",
       "      <td>68.781904</td>\n",
       "      <td>162.310473</td>\n",
       "    </tr>\n",
       "    <tr>\n",
       "      <th>2</th>\n",
       "      <td>Male</td>\n",
       "      <td>74.110105</td>\n",
       "      <td>212.740856</td>\n",
       "    </tr>\n",
       "    <tr>\n",
       "      <th>3</th>\n",
       "      <td>Male</td>\n",
       "      <td>71.730978</td>\n",
       "      <td>220.042470</td>\n",
       "    </tr>\n",
       "    <tr>\n",
       "      <th>4</th>\n",
       "      <td>Male</td>\n",
       "      <td>69.881796</td>\n",
       "      <td>206.349801</td>\n",
       "    </tr>\n",
       "  </tbody>\n",
       "</table>\n",
       "</div>"
      ],
      "text/plain": [
       "  Gender     Height      Weight\n",
       "0   Male  73.847017  241.893563\n",
       "1   Male  68.781904  162.310473\n",
       "2   Male  74.110105  212.740856\n",
       "3   Male  71.730978  220.042470\n",
       "4   Male  69.881796  206.349801"
      ]
     },
     "execution_count": 3,
     "metadata": {},
     "output_type": "execute_result"
    }
   ],
   "source": [
    "df.head()"
   ]
  },
  {
   "cell_type": "code",
   "execution_count": 4,
   "id": "bd8caa5e",
   "metadata": {},
   "outputs": [],
   "source": [
    "#Merubah data kategori pada kolom gender menjadi data numerik \n",
    "from sklearn.preprocessing import LabelEncoder\n",
    "lb=LabelEncoder()\n",
    "\n",
    "df['Gender']=lb.fit_transform(df[\"Gender\"])"
   ]
  },
  {
   "cell_type": "markdown",
   "id": "e0d82571",
   "metadata": {},
   "source": [
    "**Data manipulation** <br>\n",
    "Membuat data Height dan Weight menjadi berbentuk Kilogram(KG) dan Centimeter(CM) "
   ]
  },
  {
   "cell_type": "code",
   "execution_count": 5,
   "id": "686a7478",
   "metadata": {},
   "outputs": [],
   "source": [
    "df['Height']= df['Height']*2.54\n",
    "df['Weight']= df['Weight']*0.453592"
   ]
  },
  {
   "cell_type": "code",
   "execution_count": 6,
   "id": "430cc5a2",
   "metadata": {
    "scrolled": true
   },
   "outputs": [
    {
     "data": {
      "text/html": [
       "<div>\n",
       "<style scoped>\n",
       "    .dataframe tbody tr th:only-of-type {\n",
       "        vertical-align: middle;\n",
       "    }\n",
       "\n",
       "    .dataframe tbody tr th {\n",
       "        vertical-align: top;\n",
       "    }\n",
       "\n",
       "    .dataframe thead th {\n",
       "        text-align: right;\n",
       "    }\n",
       "</style>\n",
       "<table border=\"1\" class=\"dataframe\">\n",
       "  <thead>\n",
       "    <tr style=\"text-align: right;\">\n",
       "      <th></th>\n",
       "      <th>Gender</th>\n",
       "      <th>Height</th>\n",
       "      <th>Weight</th>\n",
       "    </tr>\n",
       "  </thead>\n",
       "  <tbody>\n",
       "    <tr>\n",
       "      <th>0</th>\n",
       "      <td>1</td>\n",
       "      <td>187.571423</td>\n",
       "      <td>109.720985</td>\n",
       "    </tr>\n",
       "    <tr>\n",
       "      <th>1</th>\n",
       "      <td>1</td>\n",
       "      <td>174.706036</td>\n",
       "      <td>73.622732</td>\n",
       "    </tr>\n",
       "    <tr>\n",
       "      <th>2</th>\n",
       "      <td>1</td>\n",
       "      <td>188.239668</td>\n",
       "      <td>96.497550</td>\n",
       "    </tr>\n",
       "    <tr>\n",
       "      <th>3</th>\n",
       "      <td>1</td>\n",
       "      <td>182.196685</td>\n",
       "      <td>99.809504</td>\n",
       "    </tr>\n",
       "    <tr>\n",
       "      <th>4</th>\n",
       "      <td>1</td>\n",
       "      <td>177.499761</td>\n",
       "      <td>93.598619</td>\n",
       "    </tr>\n",
       "  </tbody>\n",
       "</table>\n",
       "</div>"
      ],
      "text/plain": [
       "   Gender      Height      Weight\n",
       "0       1  187.571423  109.720985\n",
       "1       1  174.706036   73.622732\n",
       "2       1  188.239668   96.497550\n",
       "3       1  182.196685   99.809504\n",
       "4       1  177.499761   93.598619"
      ]
     },
     "execution_count": 6,
     "metadata": {},
     "output_type": "execute_result"
    }
   ],
   "source": [
    "df.head()"
   ]
  },
  {
   "cell_type": "code",
   "execution_count": null,
   "id": "4066016b",
   "metadata": {},
   "outputs": [],
   "source": []
  },
  {
   "cell_type": "code",
   "execution_count": 7,
   "id": "af1346da",
   "metadata": {},
   "outputs": [],
   "source": [
    "#Membuat Variabel X dan Y \n",
    "x = df.iloc[:, :-1] # kolom 'Gender' dan 'Height'\n",
    "y = df.iloc[:, -1] # kolom 'Weight'"
   ]
  },
  {
   "cell_type": "markdown",
   "id": "c617cf4d",
   "metadata": {},
   "source": [
    "## Training Model"
   ]
  },
  {
   "cell_type": "code",
   "execution_count": 8,
   "id": "48f516d3",
   "metadata": {},
   "outputs": [],
   "source": [
    "#Membagi data training dan data test\n",
    "from sklearn.model_selection import train_test_split\n",
    "X_train,X_test,y_train,y_test=train_test_split(x,y,test_size=0.2,random_state=0)"
   ]
  },
  {
   "cell_type": "code",
   "execution_count": 9,
   "id": "50a6f8ea",
   "metadata": {},
   "outputs": [],
   "source": [
    "#Membuat model dengan regresi linier\n",
    "from sklearn.linear_model import LinearRegression\n",
    "clf= LinearRegression()\n",
    "model= clf.fit(X_train,y_train)"
   ]
  },
  {
   "cell_type": "code",
   "execution_count": 10,
   "id": "6a8c0293",
   "metadata": {},
   "outputs": [
    {
     "data": {
      "text/plain": [
       "array([64.38207212, 80.08465578, 99.68970675, ..., 68.02578026,\n",
       "       75.67445389, 62.99458788])"
      ]
     },
     "execution_count": 10,
     "metadata": {},
     "output_type": "execute_result"
    }
   ],
   "source": [
    "#Menampilkan hasil prediksi\n",
    "y_pred=clf.predict(X_test)\n",
    "y_pred"
   ]
  },
  {
   "cell_type": "markdown",
   "id": "22400665",
   "metadata": {},
   "source": [
    "## Menghitung akurasi model"
   ]
  },
  {
   "cell_type": "code",
   "execution_count": 11,
   "id": "fa42de6d",
   "metadata": {},
   "outputs": [],
   "source": [
    "accuracy = model.score(X_test, y_test)"
   ]
  },
  {
   "cell_type": "code",
   "execution_count": 12,
   "id": "809059af",
   "metadata": {},
   "outputs": [
    {
     "name": "stdout",
     "output_type": "stream",
     "text": [
      "Akurasi Model: 90.52889824534557%\n"
     ]
    }
   ],
   "source": [
    "print(f\"Akurasi Model: {accuracy * 100}%\")"
   ]
  },
  {
   "cell_type": "markdown",
   "id": "21565a71",
   "metadata": {},
   "source": [
    "## Menyimpan Model"
   ]
  },
  {
   "cell_type": "code",
   "execution_count": 15,
   "id": "bea5819c",
   "metadata": {},
   "outputs": [],
   "source": [
    "import joblib"
   ]
  },
  {
   "cell_type": "code",
   "execution_count": 16,
   "id": "6de9bb1d",
   "metadata": {
    "scrolled": true
   },
   "outputs": [
    {
     "data": {
      "text/plain": [
       "['weight-height-linier-regression.pkl']"
      ]
     },
     "execution_count": 16,
     "metadata": {},
     "output_type": "execute_result"
    }
   ],
   "source": [
    "joblib.dump((model), \"weight-height-linier-regression.pkl\")"
   ]
  }
 ],
 "metadata": {
  "kernelspec": {
   "display_name": "Python 3 (ipykernel)",
   "language": "python",
   "name": "python3"
  },
  "language_info": {
   "codemirror_mode": {
    "name": "ipython",
    "version": 3
   },
   "file_extension": ".py",
   "mimetype": "text/x-python",
   "name": "python",
   "nbconvert_exporter": "python",
   "pygments_lexer": "ipython3",
   "version": "3.9.7"
  }
 },
 "nbformat": 4,
 "nbformat_minor": 5
}
